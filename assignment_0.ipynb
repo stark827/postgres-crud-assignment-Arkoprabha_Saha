{
 "cells": [
  {
   "cell_type": "code",
   "execution_count": 1,
   "id": "cbf7209b-8749-4b77-bc5f-0de79d303a80",
   "metadata": {},
   "outputs": [],
   "source": [
    "import psycopg2\n"
   ]
  },
  {
   "cell_type": "code",
   "execution_count": 2,
   "id": "b26ae8ab-ab93-41bd-bb89-fd47291613de",
   "metadata": {},
   "outputs": [],
   "source": [
    "def connect_db():\n",
    "    try:\n",
    "        conn = psycopg2.connect(\n",
    "            dbname=\"assignmentdb\",\n",
    "            user=\"postgres\",\n",
    "            password=\"12345\",\n",
    "            host=\"localhost\",\n",
    "            port=\"5432\",\n",
    "        )\n",
    "        print(\" Connection Successful \")\n",
    "        return conn\n",
    "    except Exception as e:\n",
    "        print(\"Connection failed:\", e)\n",
    "        return None"
   ]
  },
  {
   "cell_type": "code",
   "execution_count": 3,
   "id": "1b5c13a8-e68c-40ea-a8ae-9f50c8f45ec6",
   "metadata": {},
   "outputs": [],
   "source": [
    "def insert_student(conn, name, age, department, email):\n",
    "    cursor = conn.cursor()\n",
    "    query = \"\"\"INSERT INTO student_schema.students (name, age, department, email)\n",
    "               VALUES (%s, %s, %s, %s);\"\"\"\n",
    "    cursor.execute(query, (name, age, department, email))\n",
    "    conn.commit()\n",
    "    cursor.close()\n",
    "    print(\" Student inserted successfully!\")\n"
   ]
  },
  {
   "cell_type": "code",
   "execution_count": 4,
   "id": "e2499748-e6d6-44ba-b72d-c62edd52f892",
   "metadata": {},
   "outputs": [],
   "source": [
    "def fetch_students(conn):\n",
    "    cursor = conn.cursor()\n",
    "    cursor.execute(\"SELECT * FROM student_schema.students;\")\n",
    "    rows = cursor.fetchall()\n",
    "    cursor.close()\n",
    "    return rows"
   ]
  },
  {
   "cell_type": "code",
   "execution_count": 5,
   "id": "ae4faaea-e90f-4fb5-ac08-3982edb4b21b",
   "metadata": {},
   "outputs": [],
   "source": [
    "def update_student_age(conn, student_id, new_age):\n",
    "    cursor = conn.cursor()\n",
    "    query = \"\"\"UPDATE student_schema.students\n",
    "               SET age = %s WHERE student_id = %s;\"\"\"\n",
    "    cursor.execute(query, (student_id, new_age))\n",
    "    conn.commit()\n",
    "    cursor.close()\n",
    "    print(\"Student updated successfully!\")\n"
   ]
  },
  {
   "cell_type": "code",
   "execution_count": 6,
   "id": "a5623f17-b38f-419c-a4ee-ab3bd345e6f7",
   "metadata": {},
   "outputs": [],
   "source": [
    "def delete_student(conn, student_id):\n",
    "    cursor = conn.cursor()\n",
    "    query = \"DELETE FROM student_schema.students WHERE student_id = %s;\"\n",
    "    cursor.execute(query, (student_id,))\n",
    "    conn.commit()\n",
    "    cursor.close()\n",
    "    print(\"Student deleted successfully!\")\n"
   ]
  },
  {
   "cell_type": "code",
   "execution_count": 7,
   "id": "4de59fd5-9c6f-4c70-b791-3ce984b18983",
   "metadata": {},
   "outputs": [],
   "source": [
    "import json\n",
    "\n",
    "def export_to_json(conn, filename=\"students.json\"):\n",
    "    cursor = conn.cursor()\n",
    "    cursor.execute(\"SELECT * FROM student_schema.students;\")\n",
    "    rows = cursor.fetchall()\n",
    "    col_names = [desc[0] for desc in cursor.description]\n",
    "    \n",
    "    # Convert rows to 1list of dicts\n",
    "    data = [dict(zip(col_names, row)) for row in rows]\n",
    "    with open(filename, \"w\") as f:\n",
    "        json.dump(data, f, indent=4)\n",
    "    cursor.close()\n",
    "    print(f\" Data exported to {filename}\")"
   ]
  },
  {
   "cell_type": "code",
   "execution_count": 9,
   "id": "69529059-0227-41ba-ae77-00639860e4f3",
   "metadata": {},
   "outputs": [
    {
     "name": "stdout",
     "output_type": "stream",
     "text": [
      " Connection Successful \n",
      " Student inserted successfully!\n",
      " Student inserted successfully!\n",
      "Student Records: [(8, 'Alice', 21, 'Statistics', 'alice@example.com'), (9, 'Bob', 22, 'Computer Science', 'bob@example.com')]\n",
      "Student updated successfully!\n",
      "Student Records: [(8, 'Alice', 21, 'Statistics', 'alice@example.com'), (9, 'Bob', 22, 'Computer Science', 'bob@example.com')]\n",
      "Student deleted successfully!\n",
      " Data exported to students.json\n"
     ]
    }
   ],
   "source": [
    "if __name__ == \"__main__\":\n",
    "    conn = connect_db()\n",
    "    if conn:\n",
    "        # Insert demo students\n",
    "        insert_student(conn, \"Alice\", 21, \"Statistics\", \"alice@example.com\")\n",
    "        insert_student(conn, \"Bob\", 22, \"Computer Science\", \"bob@example.com\")\n",
    "        \n",
    "        # Fetch and print\n",
    "        students = fetch_students(conn)\n",
    "        print(\"Student Records:\", students)\n",
    "        \n",
    "        # Update a student\n",
    "        update_student_age(conn, 1, 23)\n",
    "\n",
    "        print(\"Student Records:\", students)\n",
    "        \n",
    "        # Delete a student\n",
    "        delete_student(conn, 2)\n",
    "        \n",
    "        # Export to JSON\n",
    "        export_to_json(conn)\n",
    "        \n",
    "        conn.close()\n"
   ]
  },
  {
   "cell_type": "code",
   "execution_count": null,
   "id": "90fd2ad8-0236-4ce6-ba22-1d684678f90c",
   "metadata": {},
   "outputs": [],
   "source": []
  }
 ],
 "metadata": {
  "kernelspec": {
   "display_name": "Python [conda env:base] *",
   "language": "python",
   "name": "conda-base-py"
  },
  "language_info": {
   "codemirror_mode": {
    "name": "ipython",
    "version": 3
   },
   "file_extension": ".py",
   "mimetype": "text/x-python",
   "name": "python",
   "nbconvert_exporter": "python",
   "pygments_lexer": "ipython3",
   "version": "3.13.5"
  }
 },
 "nbformat": 4,
 "nbformat_minor": 5
}
